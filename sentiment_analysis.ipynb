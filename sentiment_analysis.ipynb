{
 "cells": [
  {
   "cell_type": "code",
   "execution_count": 2,
   "metadata": {},
   "outputs": [],
   "source": [
    "import numpy as np\n",
    "import glob"
   ]
  },
  {
   "cell_type": "code",
   "execution_count": 35,
   "metadata": {},
   "outputs": [],
   "source": [
    "data_uci = []\n",
    "label_uci = []\n",
    "\n",
    "amazon_file = open('/home/yogesh/fall19/ml660/project/sentiment_labelled_sentences/amazon_cells_labelled.txt', 'r')\n",
    "amazon_content = amazon_file.readlines()\n",
    "amazon_content = [x.strip() for x in amazon_content]\n",
    "\n",
    "for rev in amazon_content:\n",
    "    data_uci.append(rev.split(\"\\t\")[0])\n",
    "    label_uci.append(rev.split(\"\\t\")[1])\n",
    "    \n",
    "imdb_file = open('/home/yogesh/fall19/ml660/project/sentiment_labelled_sentences/imdb_labelled.txt', 'r')\n",
    "imdb_content = imdb_file.readlines()\n",
    "imdb_content = [x.strip() for x in imdb_content]\n",
    "\n",
    "for rev in imdb_content:\n",
    "    data_uci.append(rev.split(\"\\t\")[0])\n",
    "    label_uci.append(rev.split(\"\\t\")[1])\n",
    "    \n",
    "yelp_file = open('/home/yogesh/fall19/ml660/project/sentiment_labelled_sentences/yelp_labelled.txt', 'r')\n",
    "yelp_content = yelp_file.readlines()\n",
    "yelp_content = [x.strip() for x in yelp_content]\n",
    "\n",
    "for rev in yelp_content:\n",
    "    data_uci.append(rev.split(\"\\t\")[0])\n",
    "    label_uci.append(rev.split(\"\\t\")[1])\n",
    "    "
   ]
  },
  {
   "cell_type": "code",
   "execution_count": null,
   "metadata": {},
   "outputs": [],
   "source": []
  },
  {
   "cell_type": "code",
   "execution_count": null,
   "metadata": {},
   "outputs": [],
   "source": []
  }
 ],
 "metadata": {
  "kernelspec": {
   "display_name": "Python 3",
   "language": "python",
   "name": "python3"
  },
  "language_info": {
   "codemirror_mode": {
    "name": "ipython",
    "version": 3
   },
   "file_extension": ".py",
   "mimetype": "text/x-python",
   "name": "python",
   "nbconvert_exporter": "python",
   "pygments_lexer": "ipython3",
   "version": "3.7.3"
  }
 },
 "nbformat": 4,
 "nbformat_minor": 2
}
